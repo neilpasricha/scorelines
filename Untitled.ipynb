{
 "cells": [
  {
   "cell_type": "code",
   "execution_count": 50,
   "id": "1a5f32de-f756-4598-b868-956e3fb76962",
   "metadata": {},
   "outputs": [],
   "source": [
    "def find_max_slice(arr):\n",
    "    paths = {}\n",
    "    max_size = 0\n",
    "    for i in range(0,len(arr)-1):\n",
    "        print(i)\n",
    "        isValid = False\n",
    "        if i!=len(arr):\n",
    "            if arr[i] < arr[i+1]:\n",
    "                isValid = True\n",
    "                paths[i] = [arr[i], arr[i+1]]\n",
    "            else:\n",
    "                paths[i] = [arr[i]]\n",
    "                continue\n",
    "        for j in range(i+1, len(arr)-1):\n",
    "            if j!=len(arr):\n",
    "                if arr[j] < arr[j+1]:\n",
    "                    paths.get(i).append[arr[j+1]]\n",
    "                else:\n",
    "                    if len(paths.get(i)) > max_size:\n",
    "                        max_size = len(paths.get(i))\n",
    "                    break\n",
    "    print(paths)\n",
    "    print(max_size)\n",
    "    ret = []\n",
    "    for key, arr in paths.items():\n",
    "        if len(arr) == max_size:\n",
    "            ret.append(key)\n",
    "    return ret"
   ]
  },
  {
   "cell_type": "code",
   "execution_count": 51,
   "id": "2f4fa2fa-ac19-4a80-8e6a-a6e7b20300db",
   "metadata": {},
   "outputs": [
    {
     "name": "stdout",
     "output_type": "stream",
     "text": [
      "0\n",
      "1\n",
      "{0: [30], 1: [20]}\n",
      "0\n"
     ]
    },
    {
     "data": {
      "text/plain": [
       "[]"
      ]
     },
     "execution_count": 51,
     "metadata": {},
     "output_type": "execute_result"
    }
   ],
   "source": [
    "int maxSize, currentSize = 1;\n",
    " for (int i = 1; i < array.size(); i++) {\n",
    "     if (array[i] > array[i-1]) {\n",
    "         currentSize++;\n",
    "         maxSize = max(currentSize, maxSize);\n",
    "     } else {\n",
    "         currentSize = 1; \n",
    "     }\n",
    " }"
   ]
  },
  {
   "cell_type": "code",
   "execution_count": 65,
   "id": "520ed4bf-4cf1-4d7f-b85d-45da427db333",
   "metadata": {},
   "outputs": [],
   "source": [
    "def maxArray(arr):\n",
    "    maxSize=1\n",
    "    currentSize = 1\n",
    "    paths = {}\n",
    "    tmp = 0\n",
    "    for i in range(0, len(arr)-1):\n",
    "        if arr[i] < arr[i+1]:\n",
    "            currentSize+=1\n",
    "            maxSize = max(currentSize, maxSize)\n",
    "        else:\n",
    "            currentSize = 1\n",
    "    print(maxSize)"
   ]
  },
  {
   "cell_type": "code",
   "execution_count": 66,
   "id": "ab7c2573-92b4-4de3-b044-ea2c5b0c1d15",
   "metadata": {},
   "outputs": [],
   "source": [
    "test1 = [2,2,2,2,1,2,-1,2,1,3]"
   ]
  },
  {
   "cell_type": "code",
   "execution_count": 67,
   "id": "9d053bc4-1575-45c4-ad98-cc4ab9b804f1",
   "metadata": {},
   "outputs": [
    {
     "name": "stdout",
     "output_type": "stream",
     "text": [
      "2\n"
     ]
    }
   ],
   "source": [
    "maxArray(test1)"
   ]
  },
  {
   "cell_type": "code",
   "execution_count": 68,
   "id": "c3bb50e8-de02-4a47-b1d9-11a7b498b121",
   "metadata": {},
   "outputs": [],
   "source": [
    "test2 = \"babaa\""
   ]
  },
  {
   "cell_type": "code",
   "execution_count": 105,
   "id": "d4088c1f-ae8f-40f1-a08a-2ec9db0606ff",
   "metadata": {},
   "outputs": [],
   "source": [
    "def findBlocks(s):\n",
    "    max_block_length = 1\n",
    "    num_blocks = 1\n",
    "    tmp = s[0]\n",
    "    cur_block_length = 1\n",
    "    length_of_blocks = []\n",
    "    for i in range(1,len(s)):\n",
    "        #print(s[i])\n",
    "        if s[i] == tmp:\n",
    "            cur_block_length +=1\n",
    "            max_block_length = max(max_block_length, cur_block_length)\n",
    "        else:\n",
    "            print(s[i])\n",
    "            print(i)\n",
    "            length_of_blocks.append(cur_block_length)\n",
    "            cur_block_length = 1\n",
    "            tmp = s[i]\n",
    "        if i == len(s)-1:\n",
    "            length_of_blocks.append(cur_block_length)\n",
    "    print(length_of_blocks)\n",
    "    print(max_block_length)\n",
    "    num_moves = 0\n",
    "    for num in length_of_blocks:\n",
    "        num_moves += max_block_length - num\n",
    "    return num_moves\n",
    "            \n",
    "            \n",
    "                "
   ]
  },
  {
   "cell_type": "code",
   "execution_count": 106,
   "id": "8a0ce405-74f9-43fe-aa61-77a92f102367",
   "metadata": {},
   "outputs": [
    {
     "name": "stdout",
     "output_type": "stream",
     "text": [
      "a\n",
      "1\n",
      "b\n",
      "2\n",
      "a\n",
      "3\n",
      "[1, 1, 1, 2]\n",
      "2\n"
     ]
    },
    {
     "data": {
      "text/plain": [
       "3"
      ]
     },
     "execution_count": 106,
     "metadata": {},
     "output_type": "execute_result"
    }
   ],
   "source": [
    "findBlocks(test2)"
   ]
  },
  {
   "cell_type": "code",
   "execution_count": 107,
   "id": "94ea9cee-862e-492b-a278-fbaa55c8391c",
   "metadata": {},
   "outputs": [],
   "source": [
    "test3 = \"bbbab\""
   ]
  },
  {
   "cell_type": "code",
   "execution_count": 108,
   "id": "112e3de3-e01e-4c69-aa28-e700950314c1",
   "metadata": {},
   "outputs": [
    {
     "name": "stdout",
     "output_type": "stream",
     "text": [
      "a\n",
      "3\n",
      "b\n",
      "4\n",
      "[3, 1, 1]\n",
      "3\n"
     ]
    },
    {
     "data": {
      "text/plain": [
       "4"
      ]
     },
     "execution_count": 108,
     "metadata": {},
     "output_type": "execute_result"
    }
   ],
   "source": [
    "findBlocks(test3)"
   ]
  },
  {
   "cell_type": "code",
   "execution_count": 109,
   "id": "e02571f7-83c5-47a6-a0bf-e7091bdb132b",
   "metadata": {},
   "outputs": [],
   "source": [
    "test4 = \"bbbaaabbb\""
   ]
  },
  {
   "cell_type": "code",
   "execution_count": 110,
   "id": "55028d60-f0a6-4a01-881f-072946b23bfb",
   "metadata": {},
   "outputs": [
    {
     "name": "stdout",
     "output_type": "stream",
     "text": [
      "a\n",
      "3\n",
      "b\n",
      "6\n",
      "[3, 3, 3]\n",
      "3\n"
     ]
    },
    {
     "data": {
      "text/plain": [
       "0"
      ]
     },
     "execution_count": 110,
     "metadata": {},
     "output_type": "execute_result"
    }
   ],
   "source": [
    "findBlocks(test4)"
   ]
  },
  {
   "cell_type": "code",
   "execution_count": 123,
   "id": "d6089104-71c9-4978-9a32-c06199f43a3c",
   "metadata": {},
   "outputs": [],
   "source": [
    "def blocks(arr):\n",
    "    max_count = 1\n",
    "    tmp_count = 1\n",
    "    arr_list = {}\n",
    "    for i in range(0, len(arr)-1):\n",
    "        arr_list[i] = [arr[i]]\n",
    "        tmp = arr[i]\n",
    "        for j in range(i, len(arr)-1):\n",
    "            if tmp == arr[j]:\n",
    "                tmp_count+=1\n",
    "                max_count=max(tmp_count, max_count)\n",
    "                arr_list.get(i).append(arr[j])\n",
    "                continue\n",
    "            else:\n",
    "                tmp_count = 1\n",
    "                tmp = arr[j]\n",
    "                break\n",
    "    print(arr_list)"
   ]
  },
  {
   "cell_type": "code",
   "execution_count": 124,
   "id": "173ba7bd-4975-465c-b032-d6a8bbe6b5f2",
   "metadata": {},
   "outputs": [
    {
     "name": "stdout",
     "output_type": "stream",
     "text": [
      "{0: ['a', 'a'], 1: ['b', 'b', 'b'], 2: ['b', 'b'], 3: ['a', 'a'], 4: ['b', 'b', 'b'], 5: ['b', 'b'], 6: ['a', 'a', 'a'], 7: ['a', 'a']}\n"
     ]
    }
   ],
   "source": [
    "blocks(\"abbabbaaa\")"
   ]
  },
  {
   "cell_type": "code",
   "execution_count": null,
   "id": "d8ea45a6-dc0e-49d7-b970-5a4afdec73bc",
   "metadata": {},
   "outputs": [],
   "source": []
  }
 ],
 "metadata": {
  "kernelspec": {
   "display_name": "Python 3 (ipykernel)",
   "language": "python",
   "name": "python3"
  },
  "language_info": {
   "codemirror_mode": {
    "name": "ipython",
    "version": 3
   },
   "file_extension": ".py",
   "mimetype": "text/x-python",
   "name": "python",
   "nbconvert_exporter": "python",
   "pygments_lexer": "ipython3",
   "version": "3.9.1"
  }
 },
 "nbformat": 4,
 "nbformat_minor": 5
}
